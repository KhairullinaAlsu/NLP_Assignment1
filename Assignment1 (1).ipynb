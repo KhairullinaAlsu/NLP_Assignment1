{
  "cells": [
    {
      "cell_type": "markdown",
      "metadata": {
        "id": "DIgM6C9HYUhm"
      },
      "source": [
        "# Context-sensitive Spelling Correction\n",
        "\n",
        "The goal of the assignment is to implement context-sensitive spelling correction. The input of the code will be a set of text lines and the output will be the same lines with spelling mistakes fixed.\n",
        "\n",
        "Submit the solution of the assignment to Moodle as a link to your GitHub repository containing this notebook.\n",
        "\n",
        "Useful links:\n",
        "- [Norvig's solution](https://norvig.com/spell-correct.html)\n",
        "- [Norvig's dataset](https://norvig.com/big.txt)\n",
        "- [Ngrams data](https://www.ngrams.info/download_coca.asp)\n",
        "\n",
        "Grading:\n",
        "- 60 points - Implement spelling correction\n",
        "- 20 points - Justify your decisions\n",
        "- 20 points - Evaluate on a test set\n"
      ]
    },
    {
      "cell_type": "markdown",
      "metadata": {
        "id": "x-vb8yFOGRDF"
      },
      "source": [
        "## Implement context-sensitive spelling correction\n",
        "\n",
        "Your task is to implement context-sensitive spelling corrector using N-gram language model. The idea is to compute conditional probabilities of possible correction options. For example, the phrase \"dking sport\" should be fixed as \"doing sport\" not \"dying sport\", while \"dking species\" -- as \"dying species\".\n",
        "\n",
        "The best way to start is to analyze [Norvig's solution](https://norvig.com/spell-correct.html) and [N-gram Language Models](https://web.stanford.edu/~jurafsky/slp3/3.pdf).\n",
        "\n",
        "When solving this task, we expect you'll face (and successfully deal with) some problems or make up the ideas of the model improvement. Some of them are:\n",
        "\n",
        "- solving a problem of n-grams frequencies storing for a large corpus;\n",
        "- taking into account keyboard layout and associated misspellings;\n",
        "- efficiency improvement to make the solution faster;\n",
        "- ...\n",
        "\n",
        "Please don't forget to describe such cases, and what you decided to do with them, in the Justification section.\n",
        "\n",
        "##### IMPORTANT:  \n",
        "Your project should not be a mere code copy-paste from somewhere. You must provide:\n",
        "- Your implementation\n",
        "- Analysis of why the implemented approach is suggested\n",
        "- Improvements of the original approach that you have chosen to implement"
      ]
    },
    {
      "cell_type": "code",
      "execution_count": 37,
      "metadata": {
        "id": "MoQeEsZvHvvi"
      },
      "outputs": [],
      "source": [
        "from collections import defaultdict, Counter\n",
        "\n",
        "def load_fivegrams(fivegram_path):\n",
        "    fivegram = []\n",
        "    with open(fivegram_path, \"r\", encoding=\"latin-1\") as file:\n",
        "        for line in file:\n",
        "            parts = line.strip().split(\"\\t\")\n",
        "            if len(parts) == 6:\n",
        "                count = int(parts[0])\n",
        "                w1, w2, w3, w4, w5 = parts[1], parts[2], parts[3], parts[4], parts[5]\n",
        "                fivegram.append((count, w1, w2, w3, w4, w5))\n",
        "    return fivegram\n",
        "\n",
        "fivegram = load_fivegrams(\"fivegrams (2).txt\")\n",
        "fivegram_dict = {(w1, w2, w3, w4, w5): count for count, w1, w2, w3, w4, w5 in fivegram_counts}\n",
        "\n",
        "fourgram = defaultdict(int)\n",
        "for count, w1, w2, w3, w4, _ in fivegram:\n",
        "    fourgram[(w1, w2, w3, w4)] += count\n",
        "\n",
        "fivegram_probs = {(w1, w2, w3, w4, w5): count / fourgram[(w1, w2, w3, w4)]\n",
        "                  for (w1, w2, w3, w4, w5), count in fivegram_dict.items()}"
      ]
    },
    {
      "cell_type": "code",
      "source": [
        "keyboard = {\n",
        "    'q': (0, 0), 'w': (1, 0), 'e': (2, 0), 'r': (3, 0), 't': (4, 0),\n",
        "    'y': (5, 0), 'u': (6, 0), 'i': (7, 0), 'o': (8, 0), 'p': (9, 0),\n",
        "    'a': (0, 1), 's': (1, 1), 'd': (2, 1), 'f': (3, 1), 'g': (4, 1),\n",
        "    'h': (5, 1), 'j': (6, 1), 'k': (7, 1), 'l': (8, 1),\n",
        "    'z': (0, 2), 'x': (1, 2), 'c': (2, 2), 'v': (3, 2), 'b': (4, 2),\n",
        "    'n': (5, 2), 'm': (6, 2)\n",
        "}"
      ],
      "metadata": {
        "id": "hMwocex2yAE0"
      },
      "execution_count": 38,
      "outputs": []
    },
    {
      "cell_type": "code",
      "source": [
        "import math\n",
        "\n",
        "def calculate_dist(c1, c2):\n",
        "    x1, y1 = keyboard.get(c1, (0, 0))\n",
        "    x2, y2 = keyboard.get(c2, (0, 0))\n",
        "    return math.sqrt((x2 - x1)**2 + (y2 - y1)**2)\n",
        "\n",
        "#from https://en.wikipedia.org/wiki/Damerau%E2%80%93Levenshtein_distance\n",
        "def weighted_levenshtein(s1, s2):\n",
        "    len_s1 = len(s1)\n",
        "    len_s2 = len(s2)\n",
        "    dp = [[0] * (len_s2 + 1) for _ in range(len_s1 + 1)]\n",
        "    for i in range(len_s1 + 1):\n",
        "        dp[i][0] = i\n",
        "    for j in range(len_s2 + 1):\n",
        "        dp[0][j] = j\n",
        "    for i in range(1, len_s1 + 1):\n",
        "        for j in range(1, len_s2 + 1):\n",
        "            if s1[i - 1] == s2[j - 1]:\n",
        "                cost = 0\n",
        "            else:\n",
        "                cost = calculate_dist(s1[i - 1], s2[j - 1]) / 2\n",
        "            dp[i][j] = min(dp[i - 1][j] + 1, dp[i][j - 1] + 1, dp[i - 1][j - 1] + cost)\n",
        "    return dp[len_s1][len_s2]"
      ],
      "metadata": {
        "id": "d2QKIkhryGqK"
      },
      "execution_count": 39,
      "outputs": []
    },
    {
      "cell_type": "code",
      "source": [
        "def generate_candidates(word, vocabulary, max_dist=2):\n",
        "    candidates = []\n",
        "    for candidate in vocabulary:\n",
        "        if weighted_levenshtein(word, candidate) <= max_dist:\n",
        "            candidates.append(candidate)\n",
        "    return candidates"
      ],
      "metadata": {
        "id": "oNEV-KdRBgdc"
      },
      "execution_count": 40,
      "outputs": []
    },
    {
      "cell_type": "code",
      "source": [
        "def get_best(context, word, vocabulary, fivegram_probs):\n",
        "    candidates = generate_candidates(word, vocabulary)\n",
        "    best_candidate = None\n",
        "    best_score = -1\n",
        "    for candidate in candidates:\n",
        "        fivegram_prob = fivegram_probs.get((context[0], context[1], context[2], context[3], candidate), 1e-8)\n",
        "        keyboard_distance = calculate_keyboard_distance(word[-1], candidate[-1])\n",
        "        score = fivegram_prob / (keyboard_distance + 1e-8)\n",
        "        if score > best_score:\n",
        "            best_score = score\n",
        "            best_candidate = candidate\n",
        "    return best_candidate"
      ],
      "metadata": {
        "id": "OzBTaz-LCqdf"
      },
      "execution_count": 41,
      "outputs": []
    },
    {
      "cell_type": "code",
      "source": [
        "def correct_sentence(sentence, vocabulary, fivegram_probs):\n",
        "    words = sentence.split()\n",
        "    corrected_sentence = []\n",
        "    for i in range(len(words)):\n",
        "        if i >= 4:\n",
        "            context = (words[i-4], words[i-3], words[i-2], words[i-1])\n",
        "            if words[i] not in vocabulary:\n",
        "                candidate = get_best(context, words[i], vocabulary, fivegram_probs)\n",
        "                corrected_sentence.append(candidate)\n",
        "            else:\n",
        "                corrected_sentence.append(words[i])\n",
        "        else:\n",
        "            corrected_sentence.append(words[i])\n",
        "    return \" \".join(corrected_sentence)"
      ],
      "metadata": {
        "id": "ZfrmQo5KC0Ug"
      },
      "execution_count": 42,
      "outputs": []
    },
    {
      "cell_type": "code",
      "source": [
        "vocabulary = {w for fivegram in fivegram_dict.keys() for w in fivegram}"
      ],
      "metadata": {
        "id": "ydjAzmrCLSyf"
      },
      "execution_count": 43,
      "outputs": []
    },
    {
      "cell_type": "markdown",
      "metadata": {
        "id": "oML-5sJwGRLE"
      },
      "source": [
        "## Justify your decisions\n",
        "\n",
        "Write down justificaitons for your implementation choices. For example, these choices could be:\n",
        "- Which ngram dataset to use\n",
        "- Which weights to assign for edit1, edit2 or absent words probabilities\n",
        "- Beam search parameters\n",
        "- etc."
      ]
    },
    {
      "cell_type": "markdown",
      "metadata": {
        "id": "6Xb_twOmVsC6"
      },
      "source": [
        "I chose Fivegrams because they capture more context than bigrams or trigrams, allowing them to better correct errors in long sentences or complex cases."
      ]
    },
    {
      "cell_type": "markdown",
      "metadata": {
        "id": "46rk65S4GRSe"
      },
      "source": [
        "## Evaluate on a test set\n",
        "\n",
        "Your task is to generate a test set and evaluate your work. You may vary the noise probability to generate different datasets with varying compexity (or just take another dataset). Compare your solution to the Norvig's corrector, and report the accuracies."
      ]
    },
    {
      "cell_type": "markdown",
      "source": [],
      "metadata": {
        "id": "UFnHqgiKb_ot"
      }
    },
    {
      "cell_type": "markdown",
      "metadata": {
        "id": "mLW1rYWC8Ffi"
      },
      "source": [
        "#### Useful resources (also included in the archive in moodle):\n",
        "\n",
        "1. [Possible dataset with N-grams](https://www.ngrams.info/download_coca.asp)\n",
        "2. [Damerau–Levenshtein distance](https://en.wikipedia.org/wiki/Damerau–Levenshtein_distance#:~:text=Informally%2C%20the%20Damerau–Levenshtein%20distance,one%20word%20into%20the%20other.)"
      ]
    }
  ],
  "metadata": {
    "colab": {
      "provenance": []
    },
    "kernelspec": {
      "display_name": "Python 3",
      "name": "python3"
    },
    "language_info": {
      "name": "python"
    }
  },
  "nbformat": 4,
  "nbformat_minor": 0
}